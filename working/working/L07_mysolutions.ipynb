{
 "cells": [
  {
   "cell_type": "markdown",
   "metadata": {},
   "source": [
    "## Q1: The stock market\n",
    "\n",
    "(This is about numba)\n",
    "\n",
    "A Markov Chain is defined as a sequence of random variables where a parameter depends *only* on the preceding value. This is a crucial tool in statistics, widely used in science and beyond (economics for instance).\n",
    "\n",
    "For instance, the stock market has phases of growing prices (bull), dreasing prices (bear) and recession. This would be a Marov Chain model:\n",
    "\n",
    "![](https://upload.wikimedia.org/wikipedia/commons/thumb/9/95/Finance_Markov_chain_example_state_space.svg/400px-Finance_Markov_chain_example_state_space.svg.png)\n",
    "\n",
    "where the numbers on the arrows indicate the probabily that the next day will be in a given state.\n",
    "\n",
    "Your task is to simulate the stock market according to this rule. Start from a random state and simulate many many  iterations. If your code is right, the fraction of days in each state should converge. \n",
    "\n",
    "Implement a pure-python version and a numba version, and compare speeds. \n"
   ]
  },
  {
   "cell_type": "code",
   "execution_count": 1,
   "metadata": {},
   "outputs": [],
   "source": [
    "import matplotlib.pyplot as plt\n",
    "import random\n",
    "import numpy as np\n",
    "from numba import njit\n",
    "\n",
    "plt.rcParams.update({\n",
    "     \"text.usetex\": True,\n",
    "     \"font.family\": \"Helvetica\"\n",
    "}) "
   ]
  },
  {
   "cell_type": "code",
   "execution_count": 2,
   "metadata": {},
   "outputs": [],
   "source": [
    "# initialize a 2dim array where the axis 0 specifies the state\n",
    "# in which you are and the axis 1 contains the transition probabilities\n",
    "# (from the draw above) of jumping from the current state to the others. \n",
    "states = np.array([[0.90, 0.075, 0.025],        # Bull market \n",
    "                   [0.15, 0.8  , 0.05 ],        # Bear market \n",
    "                   [0.25, 0.25 , 0.5  ]])       # Stagnant market \n",
    "\n",
    "Nit = int(1e7)\n",
    "init = random.randint(0, 2) # defines the initial random state. \n",
    "\n",
    "def MarketMC(Nit, init, states):\n",
    "    current = init              # current state given by a random number 0, 1 or 2.\n",
    "    bull, bear, stag = 0, 0, 0  # counters\n",
    "    for i in range(Nit):\n",
    "        x = random.random()\n",
    "        if x <= states[current, 0]:\n",
    "            current = 0 # Bull market\n",
    "            bull += 1\n",
    "        elif (1.0 - x) <= states[current, 1]:\n",
    "            current = 1 # Bear market\n",
    "            bear += 1\n",
    "        else:\n",
    "            current = 2 # Stagnant market\n",
    "            stag += 1\n",
    "    # print the fraction of number of times you were in the\n",
    "    # 3 states during the 'Nit' executions. \n",
    "    print(bull / Nit, bear / Nit, stag / Nit)"
   ]
  },
  {
   "cell_type": "code",
   "execution_count": 3,
   "metadata": {},
   "outputs": [
    {
     "name": "stdout",
     "output_type": "stream",
     "text": [
      "0.6244063 0.312994 0.0625997\n",
      "0.6250037 0.3123827 0.0626136\n",
      "0.6242354 0.3130617 0.0627029\n",
      "0.6243804 0.3129219 0.0626977\n",
      "0.6251586 0.3126196 0.0622218\n",
      "0.6249986 0.3123539 0.0626475\n",
      "0.6250452 0.3125606 0.0623942\n",
      "0.6250555 0.3126387 0.0623058\n",
      "1.41 s ± 31.4 ms per loop (mean ± std. dev. of 7 runs, 1 loop each)\n"
     ]
    }
   ],
   "source": [
    "%timeit MarketMC(Nit, init, states)"
   ]
  },
  {
   "cell_type": "code",
   "execution_count": 4,
   "metadata": {},
   "outputs": [],
   "source": [
    "m_MarketMC = njit(MarketMC)"
   ]
  },
  {
   "cell_type": "code",
   "execution_count": 5,
   "metadata": {},
   "outputs": [
    {
     "name": "stdout",
     "output_type": "stream",
     "text": [
      "0.6249571 0.3126122 0.0624307\n",
      "0.6242741 0.3131455 0.0625804\n",
      "0.6254021 0.3121257 0.0624722\n",
      "0.6249698 0.3125549 0.0624753\n",
      "0.6252673 0.3123621 0.0623706\n",
      "0.6249037 0.3127138 0.0623825\n",
      "0.6254619 0.3119414 0.0625967\n",
      "0.6249519 0.3125442 0.0625039\n",
      "57.6 ms ± 435 µs per loop (mean ± std. dev. of 7 runs, 1 loop each)\n"
     ]
    }
   ],
   "source": [
    "%timeit m_MarketMC(Nit, init, states)"
   ]
  },
  {
   "cell_type": "markdown",
   "metadata": {},
   "source": [
    "## Q3: Scaling\n",
    "\n",
    "(This is about multiprocessing)\n",
    "\n",
    "The [\"scaling\"](https://hpc-wiki.info/hpc/Scaling) of a code refers to its performance of as a function of the number of cores adopted. \n",
    "\n",
    "- Define a computationally intensive task (something like an operation on two giant arrays with >1e7 numbers or, even better!, pick somethinbg from your research). \n",
    "- Make sure it's embarassingly parallel. \n",
    "- Implement a parallelization strategy using multiprocessing. \n",
    "- Plot the time the code takes as a function of the number of cores.\n",
    "- Figure out the number of cores in your CPU and make sure the plot extends both below and above this number.\n",
    "- Interpret the resulting features. \n",
    "- A perfect scaling result in straight line (linear dependency). How perfect is your scaling?"
   ]
  },
  {
   "cell_type": "markdown",
   "metadata": {},
   "source": [
    "### Important\n",
    "Numpy has some inner, semi-automatic parallelization functionalities. Some, but not all, numpy functions detect the number of CPUs in your machine and make good use of them. That's great for most applications, but when performing a scaling study you want to control the parallelization yourself and disable what's done by numpy's. The following forces numpy to use a single core.  "
   ]
  },
  {
   "cell_type": "code",
   "execution_count": 6,
   "metadata": {},
   "outputs": [
    {
     "name": "stdout",
     "output_type": "stream",
     "text": [
      "openblas64__info:\n",
      "    libraries = ['openblas64_', 'openblas64_']\n",
      "    library_dirs = ['/usr/local/lib']\n",
      "    language = c\n",
      "    define_macros = [('HAVE_CBLAS', None), ('BLAS_SYMBOL_SUFFIX', '64_'), ('HAVE_BLAS_ILP64', None)]\n",
      "    runtime_library_dirs = ['/usr/local/lib']\n",
      "blas_ilp64_opt_info:\n",
      "    libraries = ['openblas64_', 'openblas64_']\n",
      "    library_dirs = ['/usr/local/lib']\n",
      "    language = c\n",
      "    define_macros = [('HAVE_CBLAS', None), ('BLAS_SYMBOL_SUFFIX', '64_'), ('HAVE_BLAS_ILP64', None)]\n",
      "    runtime_library_dirs = ['/usr/local/lib']\n",
      "openblas64__lapack_info:\n",
      "    libraries = ['openblas64_', 'openblas64_']\n",
      "    library_dirs = ['/usr/local/lib']\n",
      "    language = c\n",
      "    define_macros = [('HAVE_CBLAS', None), ('BLAS_SYMBOL_SUFFIX', '64_'), ('HAVE_BLAS_ILP64', None), ('HAVE_LAPACKE', None)]\n",
      "    runtime_library_dirs = ['/usr/local/lib']\n",
      "lapack_ilp64_opt_info:\n",
      "    libraries = ['openblas64_', 'openblas64_']\n",
      "    library_dirs = ['/usr/local/lib']\n",
      "    language = c\n",
      "    define_macros = [('HAVE_CBLAS', None), ('BLAS_SYMBOL_SUFFIX', '64_'), ('HAVE_BLAS_ILP64', None), ('HAVE_LAPACKE', None)]\n",
      "    runtime_library_dirs = ['/usr/local/lib']\n",
      "Supported SIMD extensions in this NumPy install:\n",
      "    baseline = NEON,NEON_FP16,NEON_VFPV4,ASIMD\n",
      "    found = ASIMDHP,ASIMDDP\n",
      "    not found = ASIMDFHM\n"
     ]
    }
   ],
   "source": [
    "import numpy as np\n",
    "np.__config__.show()\n",
    "import os\n",
    "os.environ['OPENBLAS_NUM_THREADS'] = '1'\n",
    "os.environ['MKL_NUM_THREADS'] = '1'"
   ]
  },
  {
   "cell_type": "code",
   "execution_count": 7,
   "metadata": {},
   "outputs": [],
   "source": [
    "import multiprocessing, pathos.multiprocessing\n",
    "import os\n",
    "import time"
   ]
  },
  {
   "cell_type": "markdown",
   "metadata": {},
   "source": [
    "My work focuses on Lattice QCD simulations. Very often I have to analyze observables measurements extracted from suitable Markov Chains that implement the simulation algorithms. Typical observables are 2-pt correlation function, which are estimated using suitable improved estimators. Suppose to consider the measurments along the Markov Chain of an observable $q_i(t)$: the subcript specifies the so called $i$-th configuration along the chain, whereas the $t$-dependence encodes a physical time dependence of $q$. \n",
    "\n",
    "In the analaysis step it is often necessary to compute the following combination\n",
    "$$\n",
    "    c_i(t) \\equiv \\sum_{t'=0}^{T-1} q_i(t') q_i(t+t') \\, ,\n",
    "$$\n",
    "where the sum $t+t'$ takes into account the periodic boundary conditions along the time direction of the lattice and we are assuming $t,t' = 0, \\ldots, T-1$. Since both the total number of configurations and the temporal extent of the lattice could be very large, we are going to try to embarassingly parallelize previous computation. \n",
    "\n",
    "For simplicity and definiteness I will consider the case of T = 10000 dropping the configurations label, so only 1D arrays."
   ]
  },
  {
   "cell_type": "code",
   "execution_count": 8,
   "metadata": {},
   "outputs": [],
   "source": [
    "def my_fun(a,b):\n",
    "    ''' \n",
    "        If a.size = b.size = T, the routine computes\n",
    "            c(t) = sum_{t'=0}^{T-1} a(t') b(t+t')\n",
    "        and returns sum_{t=0}^{T-1} c(t). \n",
    "    '''\n",
    "    if not a.size == b.size:\n",
    "        Exception(\"Input arrays must have the same shape.\")\n",
    "    c = np.zeros(a.size)\n",
    "    for t in range(a.size):  \n",
    "        c[t] = np.mean(a * np.roll(b, -t))\n",
    "    return np.sum(c)\n",
    "\n",
    "rep    = 10        # number of arrays to compute the CPUs times. \n",
    "ntimes = 30\n",
    "T      = 10000\n",
    "q1 = np.random.rand(rep, T)\n",
    "q2 = np.random.rand(rep, T)"
   ]
  },
  {
   "cell_type": "markdown",
   "metadata": {},
   "source": [
    "The following will take about 3 min and 30 secs."
   ]
  },
  {
   "cell_type": "code",
   "execution_count": 9,
   "metadata": {},
   "outputs": [],
   "source": [
    "times = []\n",
    "for cpus in range(1, multiprocessing.cpu_count()*2+1):\n",
    "    mp_map = pathos.multiprocessing.ProcessingPool(cpus).imap\n",
    "    times.append(time.time())\n",
    "    for _ in range(ntimes):\n",
    "        res = list(  mp_map(my_fun, q1, q2)  )\n",
    "    times[-1] = (time.time() - times[-1]) / ntimes"
   ]
  },
  {
   "cell_type": "code",
   "execution_count": 11,
   "metadata": {},
   "outputs": [
    {
     "data": {
      "image/png": "[encoded data removed]",
      "text/plain": [
       "<Figure size 900x600 with 1 Axes>"
      ]
     },
     "metadata": {},
     "output_type": "display_data"
    }
   ],
   "source": [
    "fig, ax = plt.subplots(figsize=(9,6))\n",
    "\n",
    "fsize=14\n",
    "\n",
    "ax.set_title(rf\"CPU time vs CPUs\")\n",
    "ax.plot(np.arange(1,multiprocessing.cpu_count()*2+1), np.array(times), color='red', linestyle='-', linewidth='1.0', markersize=3.0)\n",
    "ax.grid(color='grey', linestyle='--', axis='both')\n",
    "ax.set_xlabel(rf\"CPUs\", fontsize=fsize)\n",
    "ax.tick_params(axis='x', labelsize=fsize)\n",
    "ax.set_ylabel(rf\"CPU time [secs]\", fontsize=fsize)\n",
    "ax.tick_params(axis='y', labelsize=fsize)\n",
    "# plt.ylim([0, 2.0])\n",
    "# plt.xlim([-0.1, 8.1])\n",
    "fig.tight_layout()"
   ]
  }
 ],
 "metadata": {
  "kernelspec": {
   "display_name": "Python 3",
   "language": "python",
   "name": "python3"
  },
  "language_info": {
   "codemirror_mode": {
    "name": "ipython",
    "version": 3
   },
   "file_extension": ".py",
   "mimetype": "text/x-python",
   "name": "python",
   "nbconvert_exporter": "python",
   "pygments_lexer": "ipython3",
   "version": "3.11.2"
  }
 },
 "nbformat": 4,
 "nbformat_minor": 2
}
